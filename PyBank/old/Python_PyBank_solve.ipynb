{
 "cells": [
  {
   "cell_type": "code",
   "execution_count": 69,
   "metadata": {},
   "outputs": [
    {
     "name": "stdout",
     "output_type": "stream",
     "text": [
      "Financial Analysis\n",
      "----------------------------\n",
      "Total Months: 86\n",
      "Total: $38382578\n",
      "Average Change: $7803.48\n",
      "Greatest Increase in Profits: Feb-2012 ($1926159)\n",
      "Greatest Decrease in Profits: Sep-2013 ($-2196167)\n"
     ]
    }
   ],
   "source": [
    "# Import Dependencies\n",
    "\n",
    "import os\n",
    "import csv\n",
    "\n",
    "# Define CSV Path and Open CSV File\n",
    "\n",
    "budget_data_csv = os.path.join('Resources/budget_data.csv')\n",
    "\n",
    "with open(budget_data_csv) as csv_file:\n",
    "    csv_reader = csv.reader(csv_file, delimiter = ',')\n",
    "    csv_header = next(csv_file)\n",
    "    \n",
    "# create empty lists for time period (month) and Profit/Loss (p_l)\n",
    "    month = []\n",
    "    p_l = []\n",
    "    \n",
    "# Go through each row to append values to month and p_l list\n",
    "\n",
    "    for row in csv_reader:\n",
    "        month.append(row[0])\n",
    "        p_l.append(int(row[1]))\n",
    "        \n",
    "# Calculate number of time periods (months) and total Profit/Loss (p_l)\n",
    "        \n",
    "    num_month = len(month)\n",
    "    total_pl = sum(p_l)\n",
    "\n",
    "# Create list to add the values of each variance from month to month\n",
    "\n",
    "    change = [p_l[0]]\n",
    "    \n",
    "    x = 0\n",
    "    \n",
    "    for i in range(0,num_month):\n",
    "        if i == 0:\n",
    "            pass\n",
    "        else:\n",
    "            change.append(int(p_l[i])-int(p_l[i-1]))\n",
    "    \n",
    "# Save Variable for avg, max, min\n",
    "\n",
    "    avg_change = round(sum(change)/len(change),2)\n",
    "    max_change = max(change)\n",
    "    min_change = min(change)\n",
    "    max_month = month[change.index(max_change)]\n",
    "    min_month = month[change.index(min_change)]\n",
    "\n",
    "# Print to match HW format\n",
    "\n",
    "    print('Financial Analysis')\n",
    "    print('----------------------------')\n",
    "    print(f'Total Months: {num_month}')\n",
    "    print(f'Total: ${total_pl}')\n",
    "    print(f'Average Change: ${avg_change}')\n",
    "    print(f'Greatest Increase in Profits: {max_month} (${max_change})')\n",
    "    print(f'Greatest Decrease in Profits: {min_month} (${min_change})')\n",
    "    \n",
    "# Write to txt file\n",
    "\n",
    "    with open(\"PyBank_output.txt\", \"w\") as f:\n",
    "        f.write('Financial Analysis\\n')\n",
    "        f.write('----------------------------\\n')\n",
    "        f.write(f'Total Months: {num_month}\\n')\n",
    "        f.write(f'Total: ${total_pl}\\n')\n",
    "        f.write(f'Average Change: ${avg_change}\\n')\n",
    "        f.write(f'Greatest Increase in Profits: {max_month} (${max_change})\\n')\n",
    "        f.write(f'Greatest Decrease in Profits: {min_month} (${min_change})\\n')"
   ]
  }
 ],
 "metadata": {
  "kernelspec": {
   "display_name": "Python 3",
   "language": "python",
   "name": "python3"
  },
  "language_info": {
   "codemirror_mode": {
    "name": "ipython",
    "version": 3
   },
   "file_extension": ".py",
   "mimetype": "text/x-python",
   "name": "python",
   "nbconvert_exporter": "python",
   "pygments_lexer": "ipython3",
   "version": "3.6.10"
  }
 },
 "nbformat": 4,
 "nbformat_minor": 4
}
