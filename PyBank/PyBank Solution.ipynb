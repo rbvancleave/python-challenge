{
 "cells": [
  {
   "cell_type": "code",
   "execution_count": 11,
   "metadata": {},
   "outputs": [],
   "source": [
    "# import pandas\n",
    "import pandas as pd"
   ]
  },
  {
   "cell_type": "code",
   "execution_count": 12,
   "metadata": {},
   "outputs": [],
   "source": [
    "df = pd.read_csv('Resources/budget_data.csv')"
   ]
  },
  {
   "cell_type": "code",
   "execution_count": 13,
   "metadata": {},
   "outputs": [
    {
     "name": "stdout",
     "output_type": "stream",
     "text": [
      "Financial Analysis\n",
      "----------------------------\n",
      "Total Months: 86\n",
      "Total: $38382578\n",
      "Average Change: $-2315.12\n",
      "Greatest Increase in Profits: Feb-2012 ($1926159)\n",
      "Greatest Decrease in Profits: Sep-2013 ($-2196167)\n"
     ]
    }
   ],
   "source": [
    "month_count = df.count()[0]\n",
    "total_pl = df['Profit/Losses'].sum()\n",
    "\n",
    "\n",
    "print('Financial Analysis')\n",
    "print('----------------------------')\n",
    "print(f'Total Months: {month_count}')\n",
    "print(f'Total: ${total_pl}')\n",
    "\n",
    "month_ind = []\n",
    "change = []\n",
    "for num in range(0,month_count):\n",
    "    if num == 0:\n",
    "        pass\n",
    "    else:\n",
    "        change.append(int(df['Profit/Losses'][num])-int(df['Profit/Losses'][num-1]))\n",
    "        month_ind.append(df['Date'][num])\n",
    "\n",
    "change_avg = round(sum(change)/len(change),2)\n",
    "print(f'Average Change: ${change_avg}')\n",
    "\n",
    "\n",
    "change_max = max(change)\n",
    "i = change.index(change_max)\n",
    "max_month = month_ind[i]\n",
    "print('Greatest Increase in Profits:',max_month, f'(${change_max})')\n",
    "\n",
    "change_min = min(change)\n",
    "i = change.index(change_min)\n",
    "min_month = month_ind[i]\n",
    "print('Greatest Decrease in Profits:',min_month, f'(${change_min})')\n"
   ]
  },
  {
   "cell_type": "code",
   "execution_count": null,
   "metadata": {},
   "outputs": [],
   "source": []
  }
 ],
 "metadata": {
  "kernelspec": {
   "display_name": "Python 3",
   "language": "python",
   "name": "python3"
  },
  "language_info": {
   "codemirror_mode": {
    "name": "ipython",
    "version": 3
   },
   "file_extension": ".py",
   "mimetype": "text/x-python",
   "name": "python",
   "nbconvert_exporter": "python",
   "pygments_lexer": "ipython3",
   "version": "3.6.10"
  }
 },
 "nbformat": 4,
 "nbformat_minor": 4
}
